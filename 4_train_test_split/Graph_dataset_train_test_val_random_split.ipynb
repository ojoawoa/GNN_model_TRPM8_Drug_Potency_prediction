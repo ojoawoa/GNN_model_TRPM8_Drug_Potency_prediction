{
 "cells": [
  {
   "cell_type": "markdown",
   "id": "34e82ba3",
   "metadata": {},
   "source": [
    "Split graph dataset into 80% train, 10% test, 10% validation"
   ]
  },
  {
   "cell_type": "code",
   "execution_count": 2,
   "id": "5fa43c0f",
   "metadata": {},
   "outputs": [
    {
     "name": "stdout",
     "output_type": "stream",
     "text": [
      "✅ Saved classification splits to '../4_train_test_split/random_split/classification'\n",
      "   📦 Train: 423 | Val: 52 | Test: 54\n"
     ]
    }
   ],
   "source": [
    "import torch\n",
    "from torch.utils.data import random_split\n",
    "import os\n",
    "\n",
    "# --- Settings ---\n",
    "task_name = \"classification\"  # Change to \"regression\" when needed\n",
    "#task_name = \"regression\"  # Change to \"regression\" when needed\n",
    "input_file = f\"../3_graph_data/TRPM8_{task_name}_graph_dataset.pt\"\n",
    "output_dir = f\"../4_train_test_split/random_split/{task_name}\"\n",
    "\n",
    "# --- Load data ---\n",
    "data_list = torch.load(input_file)\n",
    "\n",
    "# --- Split sizes ---\n",
    "total_len = len(data_list)\n",
    "train_size = int(0.8 * total_len)\n",
    "val_size = int(0.1 * total_len)\n",
    "test_size = total_len - train_size - val_size\n",
    "\n",
    "train_set, val_set, test_set = random_split(data_list, [train_size, val_size, test_size])\n",
    "\n",
    "# --- Save output ---\n",
    "os.makedirs(output_dir, exist_ok=True)\n",
    "torch.save(train_set, os.path.join(output_dir, f\"{task_name}_train.pt\"))\n",
    "torch.save(val_set, os.path.join(output_dir, f\"{task_name}_val.pt\"))\n",
    "torch.save(test_set, os.path.join(output_dir, f\"{task_name}_test.pt\"))\n",
    "\n",
    "print(f\"✅ Saved {task_name} splits to '{output_dir}'\")\n",
    "print(f\"   📦 Train: {len(train_set)} | Val: {len(val_set)} | Test: {len(test_set)}\")\n"
   ]
  }
 ],
 "metadata": {
  "kernelspec": {
   "display_name": "Python (myenv)",
   "language": "python",
   "name": "myenv"
  },
  "language_info": {
   "codemirror_mode": {
    "name": "ipython",
    "version": 3
   },
   "file_extension": ".py",
   "mimetype": "text/x-python",
   "name": "python",
   "nbconvert_exporter": "python",
   "pygments_lexer": "ipython3",
   "version": "3.12.5"
  }
 },
 "nbformat": 4,
 "nbformat_minor": 5
}
