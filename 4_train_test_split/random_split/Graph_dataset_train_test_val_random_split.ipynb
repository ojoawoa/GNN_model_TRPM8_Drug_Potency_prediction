{
 "cells": [
  {
   "cell_type": "markdown",
   "id": "34e82ba3",
   "metadata": {},
   "source": [
    "Split graph dataset into 80% train, 10% test, 10% validation"
   ]
  },
  {
   "cell_type": "code",
   "execution_count": 1,
   "id": "5fa43c0f",
   "metadata": {},
   "outputs": [
    {
     "name": "stderr",
     "output_type": "stream",
     "text": [
      "C:\\Users\\johng23\\AppData\\Local\\Temp\\ipykernel_17196\\2684784953.py:12: FutureWarning: You are using `torch.load` with `weights_only=False` (the current default value), which uses the default pickle module implicitly. It is possible to construct malicious pickle data which will execute arbitrary code during unpickling (See https://github.com/pytorch/pytorch/blob/main/SECURITY.md#untrusted-models for more details). In a future release, the default value for `weights_only` will be flipped to `True`. This limits the functions that could be executed during unpickling. Arbitrary objects will no longer be allowed to be loaded via this mode unless they are explicitly allowlisted by the user via `torch.serialization.add_safe_globals`. We recommend you start setting `weights_only=True` for any use case where you don't have full control of the loaded file. Please open an issue on GitHub for any issues related to this experimental feature.\n",
      "  data_list = torch.load(input_file)\n",
      "C:\\Users\\johng23\\anaconda3\\envs\\erdos_spring_2025\\Lib\\site-packages\\torch_geometric\\typing.py:97: UserWarning: An issue occurred while importing 'torch-cluster'. Disabling its usage. Stacktrace: [WinError 127] The specified procedure could not be found\n",
      "  warnings.warn(f\"An issue occurred while importing 'torch-cluster'. \"\n",
      "C:\\Users\\johng23\\anaconda3\\envs\\erdos_spring_2025\\Lib\\site-packages\\torch_geometric\\typing.py:113: UserWarning: An issue occurred while importing 'torch-spline-conv'. Disabling its usage. Stacktrace: [WinError 127] The specified procedure could not be found\n",
      "  warnings.warn(\n"
     ]
    },
    {
     "name": "stdout",
     "output_type": "stream",
     "text": [
      "✅ Saved classification splits to '../4_train_test_split/random_split/classification'\n",
      "   📦 Train: 423 | Val: 52 | Test: 54\n"
     ]
    }
   ],
   "source": [
    "import torch\n",
    "from torch.utils.data import random_split\n",
    "import os\n",
    "\n",
    "# --- Settings ---\n",
    "task_name = \"classification\"  # Change to \"regression\" when needed\n",
    "#task_name = \"regression\"  # Change to \"regression\" when needed\n",
    "input_file = f\"../3_graph_data/TRPM8_{task_name}_graph_dataset.pt\"\n",
    "output_dir = f\"../4_train_test_split/random_split/{task_name}\"\n",
    "\n",
    "# --- Load data ---\n",
    "data_list = torch.load(input_file)\n",
    "\n",
    "# --- Split sizes ---\n",
    "total_len = len(data_list)\n",
    "train_size = int(0.8 * total_len)\n",
    "val_size = int(0.1 * total_len)\n",
    "test_size = total_len - train_size - val_size\n",
    "\n",
    "train_set, val_set, test_set = random_split(data_list, [train_size, val_size, test_size])\n",
    "\n",
    "# --- Save output ---\n",
    "os.makedirs(output_dir, exist_ok=True)\n",
    "torch.save(train_set, os.path.join(output_dir, f\"{task_name}_train.pt\"))\n",
    "torch.save(val_set, os.path.join(output_dir, f\"{task_name}_val.pt\"))\n",
    "torch.save(test_set, os.path.join(output_dir, f\"{task_name}_test.pt\"))\n",
    "\n",
    "print(f\"✅ Saved {task_name} splits to '{output_dir}'\")\n",
    "print(f\"   📦 Train: {len(train_set)} | Val: {len(val_set)} | Test: {len(test_set)}\")\n"
   ]
  },
  {
   "cell_type": "code",
   "execution_count": null,
   "id": "c50f74d6-4494-4a4d-8822-0f846cdf6b0f",
   "metadata": {},
   "outputs": [],
   "source": []
  }
 ],
 "metadata": {
  "kernelspec": {
   "display_name": "erdos 2025",
   "language": "python",
   "name": "erdos_spring_2025"
  },
  "language_info": {
   "codemirror_mode": {
    "name": "ipython",
    "version": 3
   },
   "file_extension": ".py",
   "mimetype": "text/x-python",
   "name": "python",
   "nbconvert_exporter": "python",
   "pygments_lexer": "ipython3",
   "version": "3.12.8"
  }
 },
 "nbformat": 4,
 "nbformat_minor": 5
}
