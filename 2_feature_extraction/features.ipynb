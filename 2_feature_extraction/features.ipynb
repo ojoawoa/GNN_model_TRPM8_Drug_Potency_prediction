{
 "cells": [
  {
   "cell_type": "markdown",
   "metadata": {},
   "source": [
    "Extracting features for the graph neural network. Hybridization (for node) and conjugation (for edges)."
   ]
  },
  {
   "cell_type": "code",
   "execution_count": null,
   "metadata": {},
   "outputs": [],
   "source": [
    "import rdkit \n",
    "from rdkit import Chem\n",
    "#from rdkit.Chem import rdchem\n",
    "import pandas as pd\n"
   ]
  },
  {
   "cell_type": "code",
   "execution_count": 9,
   "metadata": {},
   "outputs": [],
   "source": [
    "df = pd.read_csv(\"../1_data/processed/cleaned_data.csv\") # read in cleaned dataframe so we can get the SMILES strings\n",
    "\n",
    "def get_hybridization(smiles): # function to get the hybridization of each atom and return a series \n",
    "\n",
    "    mol = Chem.MolFromSmiles(smiles) # create molecule from smiles string\n",
    "\n",
    "    if mol:\n",
    "        hybrid_list = []\n",
    "        \n",
    "        for atom in mol.GetAtoms(): # iterate over each atom in the molecule\n",
    "            hybridization = atom.GetHybridization() \n",
    "            hybrid_list.append(int(hybridization))\n",
    "            \n",
    "        return hybrid_list\n",
    "\n",
    "    else:\n",
    "        return pd.Series(None)\n",
    "    \n",
    "df['Hybridization'] = df['Smiles'].apply(get_hybridization)\n"
   ]
  },
  {
   "cell_type": "code",
   "execution_count": 12,
   "metadata": {},
   "outputs": [],
   "source": [
    "df\n",
    "\n",
    "df.to_csv(\"hybridization_features.csv\")"
   ]
  },
  {
   "cell_type": "markdown",
   "metadata": {},
   "source": [
    "Get the conjugation features."
   ]
  },
  {
   "cell_type": "code",
   "execution_count": 11,
   "metadata": {},
   "outputs": [],
   "source": [
    "# df = pd.read_csv(\"../1_data/processed/cleaned_data.csv\")\n",
    "\n",
    "def get_conjugation(smiles):\n",
    "\n",
    "    mol = rdkit.Chem.MolFromSmiles(smiles) # create a molecule from smiles\n",
    "    bonds = mol.GetBonds() # get all the bonds in the molecule\n",
    "    vector = []\n",
    "    for bond in bonds: # iterate through the bonds and determine if conjugated\n",
    "        if bond.GetIsConjugated():\n",
    "            vector.append(1) # if bond is conjugated, encode with 1\n",
    "        else:\n",
    "            vector.append(0) # if bond is not conjugated encode with 0\n",
    "    return vector\n",
    "     \n",
    "df['Conjugation'] = df['Smiles'].apply(get_conjugation)\n",
    "\n",
    "df.to_csv(\"hybridization+conjugation_features.csv\")"
   ]
  }
 ],
 "metadata": {
  "kernelspec": {
   "display_name": "base",
   "language": "python",
   "name": "python3"
  },
  "language_info": {
   "codemirror_mode": {
    "name": "ipython",
    "version": 3
   },
   "file_extension": ".py",
   "mimetype": "text/x-python",
   "name": "python",
   "nbconvert_exporter": "python",
   "pygments_lexer": "ipython3",
   "version": "3.12.3"
  }
 },
 "nbformat": 4,
 "nbformat_minor": 2
}
