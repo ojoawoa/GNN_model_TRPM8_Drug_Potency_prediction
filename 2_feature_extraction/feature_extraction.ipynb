{
  "nbformat": 4,
  "nbformat_minor": 0,
  "metadata": {
    "colab": {
      "provenance": []
    },
    "kernelspec": {
      "name": "python3",
      "display_name": "Python 3"
    },
    "language_info": {
      "name": "python"
    }
  },
  "cells": [
    {
      "cell_type": "markdown",
      "source": [
        "Extracting aromaticity for the nodes and bonds for the edges.\n",
        "\n",
        "If aromaticity is True --> 0\n",
        "\n",
        "If aromaticity is False --> 1\n",
        "\n",
        "The bonds are classified by: single --> 0, double --> 1, triple --> 2 and aromatic --> 3."
      ],
      "metadata": {
        "id": "or8ld8vJRon9"
      }
    },
    {
      "cell_type": "code",
      "source": [
        "import pandas as pd\n",
        "from rdkit import Chem\n",
        "\n",
        "# Path to cleaned csv file\n",
        "df = pd.read_csv(\"1_data/processed_data/TRPM8_cleaned.csv\")\n",
        "\n",
        "\n",
        "# Filter out any rows where the \"Smiles\" column is an extra header row\n",
        "df = df[df[\"Smiles\"].str.strip().str.lower() != \"smiles\"]\n",
        "print(\"DataFrame shape after filtering:\", df.shape)"
      ],
      "metadata": {
        "colab": {
          "base_uri": "https://localhost:8080/"
        },
        "id": "iHG1032QI0dA",
        "outputId": "ad92b28d-90a5-45d9-b4c7-068ce83564b7"
      },
      "execution_count": 7,
      "outputs": [
        {
          "output_type": "stream",
          "name": "stdout",
          "text": [
            "DataFrame shape after filtering: (1060, 4)\n"
          ]
        }
      ]
    },
    {
      "cell_type": "code",
      "source": [
        "from rdkit.Chem import rdchem\n",
        "\n",
        "# define a mapping for bond types\n",
        "bond_type_map = {\n",
        "    rdchem.BondType.SINGLE: 0,\n",
        "    rdchem.BondType.DOUBLE: 1,\n",
        "    rdchem.BondType.TRIPLE: 2,\n",
        "    rdchem.BondType.AROMATIC: 3\n",
        "}\n",
        "\n",
        "# extracting aromaticity from each atom: true is 0 and false is 1\n",
        "def extract_atom_aromaticity(smiles):\n",
        "\n",
        "    if not isinstance(smiles, str):\n",
        "        return None\n",
        "    mol = Chem.MolFromSmiles(smiles)\n",
        "    if mol is None:\n",
        "        return None\n",
        "    # if atom is aromatic True -> 0, else False -> 1\n",
        "    aromaticity = [int(not atom.GetIsAromatic()) for atom in mol.GetAtoms()]\n",
        "    return aromaticity\n",
        "\n",
        "#extract bond features\n",
        "def extract_bond_features(smiles):\n",
        "    \"\"\"\n",
        "    Extracts bond features for each bond in the molecule.\n",
        "    Returns a list of tuples, each containing:\n",
        "      - Bond type (integer encoded)\n",
        "      - Conjugation flag (converted to integer: True -> 1, False -> 0)\n",
        "    \"\"\"\n",
        "    if not isinstance(smiles, str):\n",
        "        return None\n",
        "    mol = Chem.MolFromSmiles(smiles)\n",
        "    if mol is None:\n",
        "        return None\n",
        "    bond_features = []\n",
        "    for bond in mol.GetBonds():\n",
        "        btype = bond_type_map.get(bond.GetBondType(), -1)\n",
        "        is_conjugated = bond.GetIsConjugated()\n",
        "        bond_features.append((btype, int(is_conjugated)))\n",
        "    return bond_features\n"
      ],
      "metadata": {
        "id": "thcf_S7WKZ8j"
      },
      "execution_count": 8,
      "outputs": []
    },
    {
      "cell_type": "markdown",
      "source": [],
      "metadata": {
        "id": "8ntN5bk-RmxO"
      }
    },
    {
      "cell_type": "markdown",
      "source": [],
      "metadata": {
        "id": "Gs6x7n16RntX"
      }
    },
    {
      "cell_type": "code",
      "source": [
        "df[\"AtomAromaticity\"] = df[\"Smiles\"].apply(extract_atom_aromaticity)\n",
        "df[\"BondFeatures\"] = df[\"Smiles\"].apply(extract_bond_features)\n",
        "\n",
        "print(df.head())"
      ],
      "metadata": {
        "colab": {
          "base_uri": "https://localhost:8080/"
        },
        "id": "LWfvXblFQ57n",
        "outputId": "9d4e0009-ca8f-4d9a-8dda-88279d79d351"
      },
      "execution_count": 9,
      "outputs": [
        {
          "output_type": "stream",
          "name": "stdout",
          "text": [
            "  Molecule ChEMBL ID                                             Smiles  \\\n",
            "0      CHEMBL3235962  N#Cc1cccc(NC(=O)N2CCc3ccccc3[C@H]2c2ccc(C(F)(F...   \n",
            "1      CHEMBL3235983  C[C@H](NC(=O)N1CCc2ccccc2[C@H]1c1ccc(C(F)(F)F)...   \n",
            "2      CHEMBL1650511  FC(F)(F)c1ccccc1-c1cc(C(F)(F)F)c2[nH]c(C3=NOC4...   \n",
            "3      CHEMBL2443068  O=C1CC2(CCN(C(=O)Nc3ccc(C(F)(F)F)cc3)CC2)Oc2c(...   \n",
            "4      CHEMBL3959823  Cc1cccc(CN(C(=O)c2ccccc2)[C@@H](C(N)=O)c2ccccc...   \n",
            "\n",
            "  pChEMBL Value  Potency_Class  \\\n",
            "0          7.08            2.0   \n",
            "1             8            2.0   \n",
            "2          9.38            2.0   \n",
            "3          6.64            1.0   \n",
            "4          6.06            1.0   \n",
            "\n",
            "                                     AtomAromaticity  \\\n",
            "0  [1, 1, 0, 0, 0, 0, 0, 1, 1, 1, 1, 1, 1, 0, 0, ...   \n",
            "1  [1, 1, 1, 1, 1, 1, 1, 1, 0, 0, 0, 0, 0, 0, 1, ...   \n",
            "2  [1, 1, 1, 1, 0, 0, 0, 0, 0, 0, 0, 0, 0, 1, 1, ...   \n",
            "3  [1, 1, 1, 1, 1, 1, 1, 1, 1, 1, 0, 0, 0, 0, 1, ...   \n",
            "4  [1, 0, 0, 0, 0, 0, 1, 1, 1, 1, 0, 0, 0, 0, 0, ...   \n",
            "\n",
            "                                        BondFeatures  \n",
            "0  [(2, 1), (0, 1), (3, 1), (3, 1), (3, 1), (3, 1...  \n",
            "1  [(0, 0), (0, 0), (0, 1), (1, 1), (0, 1), (0, 0...  \n",
            "2  [(0, 0), (0, 0), (0, 0), (0, 0), (3, 1), (3, 1...  \n",
            "3  [(1, 1), (0, 0), (0, 0), (0, 0), (0, 0), (0, 0...  \n",
            "4  [(0, 0), (3, 1), (3, 1), (3, 1), (3, 1), (0, 0...  \n"
          ]
        }
      ]
    },
    {
      "cell_type": "code",
      "source": [],
      "metadata": {
        "id": "-mMSYKW1RDIo"
      },
      "execution_count": null,
      "outputs": []
    }
  ]
}