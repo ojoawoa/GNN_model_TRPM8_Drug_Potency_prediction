{
 "cells": [
  {
   "cell_type": "markdown",
   "metadata": {},
   "source": [
    "Import everything you need — including the model class (here it's GCNConv)."
   ]
  },
  {
   "cell_type": "code",
   "execution_count": null,
   "metadata": {},
   "outputs": [],
   "source": [
    "import torch\n",
    "from torch_geometric.loader import DataLoader\n",
    "import torch.nn.functional as F\n",
    "from torch.nn import Linear\n",
    "from torch_geometric.nn import GCNConv  # Replace with GATConv, SAGEConv, etc.\n",
    "from torch_geometric.data import Data\n",
    "from sklearn.metrics import accuracy_score, mean_squared_error\n",
    "\n",
    "# 🔁 Load datasets\n",
    "task = \"classification\"  # or \"regression\"\n",
    "\n",
    "train_data = torch.load(f\"../4_train_test_split/random_split/{task}/{task}_train.pt\")\n",
    "val_data = torch.load(f\"../4_train_test_split/random_split/{task}/{task}_val.pt\")\n",
    "test_data = torch.load(f\"../4_train_test_split/random_split/{task}/{task}_test.pt\")\n",
    "\n",
    "train_loader = DataLoader(train_data, batch_size=32, shuffle=True)\n",
    "val_loader = DataLoader(val_data, batch_size=32)\n",
    "test_loader = DataLoader(test_data, batch_size=32)\n",
    "\n",
    "# 🧱 Define Model (GCN or MPNN or GraphSAGE, etc.)\n",
    "class GCN(torch.nn.Module):\n",
    "    def __init__(self, in_channels, hidden_channels, out_channels):\n",
    "        super().__init__()\n",
    "        self.conv1 = GCNConv(in_channels, hidden_channels)\n",
    "        self.conv2 = GCNConv(hidden_channels, out_channels)\n",
    "\n",
    "    def forward(self, data):\n",
    "        x, edge_index = data.x, data.edge_index\n",
    "        x = self.conv1(x, edge_index).relu()\n",
    "        x = self.conv2(x, edge_index)\n",
    "        return x\n",
    "\n",
    "# 🧮 Loss and evaluation setup\n",
    "if task == \"classification\":\n",
    "    num_classes = len(set([int(data.y.item()) for data in train_data]))\n",
    "    model = GCN(in_channels=train_data[0].x.size(1), hidden_channels=64, out_channels=num_classes)\n",
    "    criterion = torch.nn.CrossEntropyLoss()\n",
    "else:\n",
    "    model = GCN(in_channels=train_data[0].x.size(1), hidden_channels=64, out_channels=1)\n",
    "    criterion = torch.nn.MSELoss()\n",
    "\n",
    "optimizer = torch.optim.Adam(model.parameters(), lr=0.001)\n",
    "device = torch.device(\"cuda\" if torch.cuda.is_available() else \"cpu\")\n",
    "model.to(device)\n",
    "\n",
    "# 🏋️ Training loop\n",
    "def train():\n",
    "    model.train()\n",
    "    for batch in train_loader:\n",
    "        batch = batch.to(device)\n",
    "        optimizer.zero_grad()\n",
    "        out = model(batch)\n",
    "        loss = criterion(out.squeeze(), batch.y if task == \"regression\" else batch.y.long())\n",
    "        loss.backward()\n",
    "        optimizer.step()\n",
    "\n",
    "# 📈 Evaluation\n",
    "def evaluate(loader):\n",
    "    model.eval()\n",
    "    preds, labels = [], []\n",
    "    with torch.no_grad():\n",
    "        for batch in loader:\n",
    "            batch = batch.to(device)\n",
    "            out = model(batch)\n",
    "            preds.append(out.squeeze().cpu())\n",
    "            labels.append(batch.y.cpu())\n",
    "    preds = torch.cat(preds)\n",
    "    labels = torch.cat(labels)\n",
    "\n",
    "    if task == \"classification\":\n",
    "        pred_classes = preds.argmax(dim=1)\n",
    "        return accuracy_score(labels, pred_classes)\n",
    "    else:\n",
    "        return mean_squared_error(labels, preds)\n",
    "\n",
    "# 🚀 Run training\n",
    "for epoch in range(1, 101):\n",
    "    train()\n",
    "    metric = evaluate(val_loader)\n",
    "    print(f\"Epoch {epoch:03d} - {'Accuracy' if task == 'classification' else 'MSE'}: {metric:.4f}\")\n",
    "\n",
    "# ✅ Final test evaluation\n",
    "test_metric = evaluate(test_loader)\n",
    "print(f\"\\n🧪 Test {'Accuracy' if task == 'classification' else 'MSE'}: {test_metric:.4f}\")\n"
   ]
  },
  {
   "cell_type": "markdown",
   "metadata": {},
   "source": [
    "load the graph datasets  (the random split .pt files ) and specify what task you are doing"
   ]
  },
  {
   "cell_type": "code",
   "execution_count": null,
   "metadata": {},
   "outputs": [],
   "source": [
    "task = \"classification\"  # or \"regression\"\n",
    "\n",
    "train_data = torch.load(f\"../4_train_test_split/random_split/{task}/{task}_train.pt\")\n",
    "val_data = torch.load(f\"../4_train_test_split/random_split/{task}/{task}_val.pt\")\n",
    "test_data = torch.load(f\"../4_train_test_split/random_split/{task}/{task}_test.pt\")\n",
    "\n",
    "train_loader = DataLoader(train_data, batch_size=32, shuffle=True)\n",
    "val_loader = DataLoader(val_data, batch_size=32)\n",
    "test_loader = DataLoader(test_data, batch_size=32)"
   ]
  },
  {
   "cell_type": "markdown",
   "metadata": {},
   "source": [
    "Define the model you want to use (GCN or MPNN or GraphSAGE, etc.)"
   ]
  },
  {
   "cell_type": "code",
   "execution_count": null,
   "metadata": {},
   "outputs": [],
   "source": [
    "class GCN(torch.nn.Module):\n",
    "    def __init__(self, in_channels, hidden_channels, out_channels):\n",
    "        super().__init__()\n",
    "        self.conv1 = GCNConv(in_channels, hidden_channels)\n",
    "        self.conv2 = GCNConv(hidden_channels, out_channels)\n",
    "\n",
    "    def forward(self, data):\n",
    "        x, edge_index = data.x, data.edge_index\n",
    "        x = self.conv1(x, edge_index).relu()\n",
    "        x = self.conv2(x, edge_index)\n",
    "        return x"
   ]
  },
  {
   "cell_type": "markdown",
   "metadata": {},
   "source": [
    "setup loss and evaluation "
   ]
  },
  {
   "cell_type": "code",
   "execution_count": null,
   "metadata": {},
   "outputs": [],
   "source": [
    "if task == \"classification\":\n",
    "    num_classes = len(set([int(data.y.item()) for data in train_data]))\n",
    "    model = GCN(in_channels=train_data[0].x.size(1), hidden_channels=64, out_channels=num_classes)\n",
    "    criterion = torch.nn.CrossEntropyLoss()\n",
    "else:\n",
    "    model = GCN(in_channels=train_data[0].x.size(1), hidden_channels=64, out_channels=1)\n",
    "    criterion = torch.nn.MSELoss()\n",
    "\n",
    "optimizer = torch.optim.Adam(model.parameters(), lr=0.001)\n",
    "device = torch.device(\"cuda\" if torch.cuda.is_available() else \"cpu\")\n",
    "model.to(device)\n",
    "\n",
    "# 🏋️ Training loop\n",
    "def train():\n",
    "    model.train()\n",
    "    for batch in train_loader:\n",
    "        batch = batch.to(device)\n",
    "        optimizer.zero_grad()\n",
    "        out = model(batch)\n",
    "        loss = criterion(out.squeeze(), batch.y if task == \"regression\" else batch.y.long())\n",
    "        loss.backward()\n",
    "        optimizer.step()\n",
    "\n",
    "# 📈 Evaluation\n",
    "def evaluate(loader):\n",
    "    model.eval()\n",
    "    preds, labels = [], []\n",
    "    with torch.no_grad():\n",
    "        for batch in loader:\n",
    "            batch = batch.to(device)\n",
    "            out = model(batch)\n",
    "            preds.append(out.squeeze().cpu())\n",
    "            labels.append(batch.y.cpu())\n",
    "    preds = torch.cat(preds)\n",
    "    labels = torch.cat(labels)\n",
    "\n",
    "    if task == \"classification\":\n",
    "        pred_classes = preds.argmax(dim=1)\n",
    "        return accuracy_score(labels, pred_classes)\n",
    "    else:\n",
    "        return mean_squared_error(labels, preds)\n"
   ]
  },
  {
   "cell_type": "markdown",
   "metadata": {},
   "source": [
    "🚀 Model training"
   ]
  },
  {
   "cell_type": "code",
   "execution_count": null,
   "metadata": {},
   "outputs": [],
   "source": [
    "for epoch in range(1, 101):\n",
    "    train()\n",
    "    metric = evaluate(val_loader)\n",
    "    print(f\"Epoch {epoch:03d} - {'Accuracy' if task == 'classification' else 'MSE'}: {metric:.4f}\")\n",
    "\n",
    "# ✅ Final test evaluation\n",
    "test_metric = evaluate(test_loader)\n",
    "print(f\"\\n🧪 Test {'Accuracy' if task == 'classification' else 'MSE'}: {test_metric:.4f}\")"
   ]
  }
 ],
 "metadata": {
  "language_info": {
   "name": "python"
  }
 },
 "nbformat": 4,
 "nbformat_minor": 2
}
