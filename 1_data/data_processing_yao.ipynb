{
 "cells": [
  {
   "cell_type": "code",
   "execution_count": null,
   "metadata": {},
   "outputs": [],
   "source": [
    "import pandas as pd\n",
    "from rdkit import Chem\n",
    "\n",
    "df = pd.read_csv('TRPM8-homosapien-compounds-activities-processed.csv')\n",
    "\n",
    "def check_smiles(smiles):\n",
    "    return Chem.MolFromSmiles(smiles) is not None\n",
    "\n",
    "df['Valid_Smiles'] = df['Smiles'].apply(check_smiles)\n",
    "\n",
    "df.to_csv('data_checked.csv', index=False)\n"
   ]
  },
  {
   "cell_type": "code",
   "execution_count": null,
   "metadata": {},
   "outputs": [],
   "source": [
    "import pandas as pd\n",
    "from rdkit import Chem\n",
    "\n",
    "df = pd.read_csv('smile_checked.csv')\n",
    "\n",
    "def calc_charge_degree(smiles):\n",
    "    mol = Chem.MolFromSmiles(smiles)\n",
    "    if mol:\n",
    "        formal_charge = sum(atom.GetFormalCharge() for atom in mol.GetAtoms())\n",
    "        degree = sum(atom.GetDegree() for atom in mol.GetAtoms()) / mol.GetNumAtoms()\n",
    "        return pd.Series({'Formal_Charge': formal_charge, 'Average_Degree': degree})\n",
    "    else:\n",
    "        return pd.Series({'Formal_Charge': None, 'Average_Degree': None})\n",
    "\n",
    "df[['Formal_Charge', 'Average_Degree']] = df['Smiles'].apply(calc_charge_degree)\n",
    "\n",
    "df.to_csv('data_with_charge_degree.csv', index=False)\n"
   ]
  }
 ],
 "metadata": {
  "kernelspec": {
   "display_name": "venv1",
   "language": "python",
   "name": "python3"
  },
  "language_info": {
   "codemirror_mode": {
    "name": "ipython",
    "version": 3
   },
   "file_extension": ".py",
   "mimetype": "text/x-python",
   "name": "python",
   "nbconvert_exporter": "python",
   "pygments_lexer": "ipython3",
   "version": "3.12.5"
  }
 },
 "nbformat": 4,
 "nbformat_minor": 2
}
