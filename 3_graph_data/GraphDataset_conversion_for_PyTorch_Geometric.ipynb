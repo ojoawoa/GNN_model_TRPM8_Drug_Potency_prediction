{
 "cells": [
  {
   "cell_type": "code",
   "execution_count": null,
   "id": "a2e157c2-6d35-4b4c-86c5-1993e13b8857",
   "metadata": {},
   "outputs": [],
   "source": [
    "import pandas as pd\n",
    "import torch\n",
    "from torch_geometric.data import Data\n",
    "from ast import literal_eval\n",
    "\n",
    "# Input File paths for extracted features\n",
    "classification_csv = \"../2_feature_extraction/TRPM8_graph_features_class_w_atomic_onehot_encoder.csv\"\n",
    "regression_csv = \"../2_feature_extraction/TRPM8_graph_features_regression_w_atomic_onehot_encoder.csv\"\n",
    "\n",
    "def load_graph_data(csv_file, label_column):\n",
    "    df = pd.read_csv(csv_file)\n",
    "    dataset = []\n",
    "\n",
    "    for i, row in df.iterrows():\n",
    "        try:\n",
    "            node_features = torch.tensor(literal_eval(row[\"node_features\"]), dtype=torch.float)\n",
    "            edge_features = torch.tensor(literal_eval(row[\"edge_features\"]), dtype=torch.float)\n",
    "            edge_indices = torch.tensor(literal_eval(row[\"edge_indices\"]), dtype=torch.long).t().contiguous()\n",
    "            label = torch.tensor([row[label_column]], dtype=torch.float if label_column == \"pChEMBL Value\" else torch.long)\n",
    "\n",
    "            data = Data(x=node_features, edge_index=edge_indices, edge_attr=edge_features, y=label)\n",
    "            dataset.append(data)\n",
    "        except Exception as e:\n",
    "            print(f\"⚠️ Error processing row {i} ({row['mol_id']}): {e}\")\n",
    "            continue\n",
    "\n",
    "    return dataset\n",
    "\n",
    "# Load and save\n",
    "classification_data = load_graph_data(classification_csv, \"class_label\")\n",
    "torch.save(classification_data, \"../3_graph_data/TRPM8_classification_graph_dataset_v2.pt\")\n",
    "\n",
    "regression_data = load_graph_data(regression_csv, \"pChEMBL Value\")\n",
    "torch.save(regression_data, \"../3_graph_data/TRPM8_regression_graph_dataset_v2.pt\")\n"
   ]
  }
 ],
 "metadata": {
  "kernelspec": {
   "display_name": "Python (myenv)",
   "language": "python",
   "name": "myenv"
  },
  "language_info": {
   "codemirror_mode": {
    "name": "ipython",
    "version": 3
   },
   "file_extension": ".py",
   "mimetype": "text/x-python",
   "name": "python",
   "nbconvert_exporter": "python",
   "pygments_lexer": "ipython3",
   "version": "3.12.5"
  }
 },
 "nbformat": 4,
 "nbformat_minor": 5
}
